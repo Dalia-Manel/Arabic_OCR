{
  "metadata": {
    "kernelspec": {
      "language": "python",
      "display_name": "Python 3",
      "name": "python3"
    },
    "language_info": {
      "name": "python",
      "version": "3.11.11",
      "mimetype": "text/x-python",
      "codemirror_mode": {
        "name": "ipython",
        "version": 3
      },
      "pygments_lexer": "ipython3",
      "nbconvert_exporter": "python",
      "file_extension": ".py"
    },
    "kaggle": {
      "accelerator": "gpu",
      "dataSources": [],
      "dockerImageVersionId": 31041,
      "isInternetEnabled": true,
      "language": "python",
      "sourceType": "notebook",
      "isGpuEnabled": true
    },
    "colab": {
      "provenance": []
    }
  },
  "nbformat_minor": 0,
  "nbformat": 4,
  "cells": [
    {
      "cell_type": "code",
      "source": [
        "pip install transformers\n"
      ],
      "metadata": {
        "_uuid": "8f2839f25d086af736a60e9eeb907d3b93b6e0e5",
        "_cell_guid": "b1076dfc-b9ad-4769-8c92-a6c4dae69d19",
        "trusted": true,
        "execution": {
          "iopub.status.busy": "2025-06-16T14:19:23.807824Z",
          "iopub.execute_input": "2025-06-16T14:19:23.808378Z",
          "iopub.status.idle": "2025-06-16T14:19:27.517936Z",
          "shell.execute_reply.started": "2025-06-16T14:19:23.808354Z",
          "shell.execute_reply": "2025-06-16T14:19:27.517171Z"
        },
        "id": "TtNYcdJsIr-y",
        "outputId": "47ac81da-0d34-4eee-f465-d5cc90ee1345"
      },
      "outputs": [
        {
          "name": "stdout",
          "text": "Requirement already satisfied: transformers in /usr/local/lib/python3.11/dist-packages (4.51.3)\nRequirement already satisfied: filelock in /usr/local/lib/python3.11/dist-packages (from transformers) (3.18.0)\nRequirement already satisfied: huggingface-hub<1.0,>=0.30.0 in /usr/local/lib/python3.11/dist-packages (from transformers) (0.31.1)\nRequirement already satisfied: numpy>=1.17 in /usr/local/lib/python3.11/dist-packages (from transformers) (1.26.4)\nRequirement already satisfied: packaging>=20.0 in /usr/local/lib/python3.11/dist-packages (from transformers) (25.0)\nRequirement already satisfied: pyyaml>=5.1 in /usr/local/lib/python3.11/dist-packages (from transformers) (6.0.2)\nRequirement already satisfied: regex!=2019.12.17 in /usr/local/lib/python3.11/dist-packages (from transformers) (2024.11.6)\nRequirement already satisfied: requests in /usr/local/lib/python3.11/dist-packages (from transformers) (2.32.3)\nRequirement already satisfied: tokenizers<0.22,>=0.21 in /usr/local/lib/python3.11/dist-packages (from transformers) (0.21.1)\nRequirement already satisfied: safetensors>=0.4.3 in /usr/local/lib/python3.11/dist-packages (from transformers) (0.5.3)\nRequirement already satisfied: tqdm>=4.27 in /usr/local/lib/python3.11/dist-packages (from transformers) (4.67.1)\nRequirement already satisfied: fsspec>=2023.5.0 in /usr/local/lib/python3.11/dist-packages (from huggingface-hub<1.0,>=0.30.0->transformers) (2025.3.2)\nRequirement already satisfied: typing-extensions>=3.7.4.3 in /usr/local/lib/python3.11/dist-packages (from huggingface-hub<1.0,>=0.30.0->transformers) (4.13.2)\nRequirement already satisfied: hf-xet<2.0.0,>=1.1.0 in /usr/local/lib/python3.11/dist-packages (from huggingface-hub<1.0,>=0.30.0->transformers) (1.1.0)\nRequirement already satisfied: mkl_fft in /usr/local/lib/python3.11/dist-packages (from numpy>=1.17->transformers) (1.3.8)\nRequirement already satisfied: mkl_random in /usr/local/lib/python3.11/dist-packages (from numpy>=1.17->transformers) (1.2.4)\nRequirement already satisfied: mkl_umath in /usr/local/lib/python3.11/dist-packages (from numpy>=1.17->transformers) (0.1.1)\nRequirement already satisfied: mkl in /usr/local/lib/python3.11/dist-packages (from numpy>=1.17->transformers) (2025.1.0)\nRequirement already satisfied: tbb4py in /usr/local/lib/python3.11/dist-packages (from numpy>=1.17->transformers) (2022.1.0)\nRequirement already satisfied: mkl-service in /usr/local/lib/python3.11/dist-packages (from numpy>=1.17->transformers) (2.4.1)\nRequirement already satisfied: charset-normalizer<4,>=2 in /usr/local/lib/python3.11/dist-packages (from requests->transformers) (3.4.2)\nRequirement already satisfied: idna<4,>=2.5 in /usr/local/lib/python3.11/dist-packages (from requests->transformers) (3.10)\nRequirement already satisfied: urllib3<3,>=1.21.1 in /usr/local/lib/python3.11/dist-packages (from requests->transformers) (2.4.0)\nRequirement already satisfied: certifi>=2017.4.17 in /usr/local/lib/python3.11/dist-packages (from requests->transformers) (2025.4.26)\nRequirement already satisfied: intel-openmp<2026,>=2024 in /usr/local/lib/python3.11/dist-packages (from mkl->numpy>=1.17->transformers) (2024.2.0)\nRequirement already satisfied: tbb==2022.* in /usr/local/lib/python3.11/dist-packages (from mkl->numpy>=1.17->transformers) (2022.1.0)\nRequirement already satisfied: tcmlib==1.* in /usr/local/lib/python3.11/dist-packages (from tbb==2022.*->mkl->numpy>=1.17->transformers) (1.3.0)\nRequirement already satisfied: intel-cmplr-lib-rt in /usr/local/lib/python3.11/dist-packages (from mkl_umath->numpy>=1.17->transformers) (2024.2.0)\nRequirement already satisfied: intel-cmplr-lib-ur==2024.2.0 in /usr/local/lib/python3.11/dist-packages (from intel-openmp<2026,>=2024->mkl->numpy>=1.17->transformers) (2024.2.0)\nNote: you may need to restart the kernel to use updated packages.\n",
          "output_type": "stream"
        }
      ],
      "execution_count": null
    },
    {
      "cell_type": "code",
      "source": [
        "from transformers import pipeline\n",
        "import json\n",
        "import re\n",
        "\n",
        "def extract_birth_info(text):\n",
        "    model_name = \"HuggingFaceH4/zephyr-7b-beta\"\n",
        "\n",
        "    pipe = pipeline(\n",
        "        \"text-generation\",\n",
        "        model=model_name,\n",
        "        tokenizer=model_name,\n",
        "        torch_dtype=\"auto\",\n",
        "        device_map=\"auto\"\n",
        "    )\n",
        "\n",
        "    prompt = f\"\"\"حلل النص العربي التالي واستخرج المعلومات التالية بصيغة JSON بدقة، دون اختراع أو تكرار معلومات من الأمثلة السابقة.\n",
        "\n",
        "⚠️ استخرج فقط من هذا النص. لا تستخدم أي معلومة من الأمثلة التالية.\n",
        "\n",
        "المطلوب:\n",
        "{{\n",
        "  \"nom\": \"اسم العائلة فقط\",\n",
        "  \"prenom\": \"الاسم الشخصي فقط\",\n",
        "  \"date_naissance\": \"كما هو مكتوب بالنص\",\n",
        "  \"lieu_naissance\": \"البلدية والولاية فقط\",\n",
        "  \"nom_pere\": \"الاسم الكامل للأب\",\n",
        "  \"nom_mere\": \"الاسم الكامل للأم\"\n",
        "}}\n",
        "\n",
        "🔹 مثال 1:\n",
        "النص:\n",
        "في يوم الرابع عشر مارس ألفين وأربعة على الساعة الواحدة صباحا ولد(ت) ب حيدرة بلدية حيدرة ولاية الجزائر المسمى (ة) عكوشي يونس الجنس ذكر ابن(ة) كمال و عليتوش حكيمة\n",
        "\n",
        "الإجابة:\n",
        "{{\n",
        "  \"nom\": \"عكوشي\",\n",
        "  \"prenom\": \"يونس\",\n",
        "  \"date_naissance\": \"الرابع عشر مارس ألفين وأربعة\",\n",
        "  \"lieu_naissance\": \"حيدرة، الجزائر\",\n",
        "  \"nom_pere\": \"كمال\",\n",
        "  \"nom_mere\": \"عليتوش حكيمة\"\n",
        "}}\n",
        "\n",
        "🔹 مثال 2:\n",
        "النص:\n",
        "في يوم الثاني سبتمبر ألف و تسعمائة و اثنان و خمسون ولد(ت) ب سيدي عيش بلدية سيدي عيش ولاية بجاية المسمى (ة) سكور محند صادق الجنس ذكر ابن(ة) سكور برمطان و حمني تياقوت\n",
        "\n",
        "الإجابة:\n",
        "{{\n",
        "  \"nom\": \"سكور\",\n",
        "  \"prenom\": \"محند صادق\",\n",
        "  \"date_naissance\": \"الثاني سبتمبر ألف و تسعمائة و اثنان و خمسون\",\n",
        "  \"lieu_naissance\": \"سيدي عيش، بجاية\",\n",
        "  \"nom_pere\": \"سكور برمطان\",\n",
        "  \"nom_mere\": \"حمني تياقوت\"\n",
        "}}\n",
        "\n",
        "🔹 النص الحقيقي:\n",
        "{text}\n",
        "\n",
        "الجواب بصيغة JSON فقط:\n",
        "\"\"\"\n",
        "\n",
        "    output = pipe(\n",
        "        prompt,\n",
        "        max_new_tokens=256,\n",
        "        temperature=0.1,\n",
        "        do_sample=False,\n",
        "        return_full_text=False\n",
        "    )\n",
        "\n",
        "    try:\n",
        "        json_str = re.search(r'\\{.*?\\}', output[0]['generated_text'], re.DOTALL).group()\n",
        "        return json.loads(json_str)\n",
        "    except Exception as e:\n",
        "        return {\"error\": \"Échec de l'extraction\", \"exception\": str(e), \"raw_output\": output}\n",
        "\n",
        "\n",
        "# Exemple d’utilisation\n",
        "if __name__ == \"__main__\":\n",
        "    texte_arabe = \"\"\"في يوم الخامس جانفي ألف وتسعمائة وستة وثمانون، وُلِد(ت) بسيدي عيش بلدية سيدي عيش ولاية بجاية المسمى(ة) سكور ماسين، الجنس ذكر، ابن(ة) محند صادق و حدّار فديلة.\"\"\"\n",
        "    resultat = extract_birth_info(texte_arabe)\n",
        "    print(json.dumps(resultat, indent=2, ensure_ascii=False))\n"
      ],
      "metadata": {
        "trusted": true,
        "execution": {
          "iopub.status.busy": "2025-06-16T14:07:29.975032Z",
          "iopub.execute_input": "2025-06-16T14:07:29.975390Z",
          "iopub.status.idle": "2025-06-16T14:10:58.608655Z",
          "shell.execute_reply.started": "2025-06-16T14:07:29.975366Z",
          "shell.execute_reply": "2025-06-16T14:10:58.608006Z"
        },
        "id": "Gm17eHMzIr-0",
        "outputId": "bcc6fdc6-6f73-4f96-f0f1-199855caf096",
        "colab": {
          "referenced_widgets": [
            "707ce30077db45c4810b1c86a3e5295d",
            "17f5bb333a0e48ff8ca9e5499865cee5",
            "b6eed44131ed4126ad8802a8e0c9c41b",
            "16b62e988175408ca251eb7423e39b9b",
            "cd434a67e13a439297921e6a54b99dce",
            "c6f8f3417af84fa4a585704f8a52d0a9",
            "a1ec6cb7997e4a21a19b3d41678e1b35",
            "080ae949557e4342a6bccbf440be921c",
            "ce3aaa651b4e493abedfb223b6e4213d",
            "abf4114e86704e02b5f93366a56cb88d",
            "3281d75b8f014e89a820ce93de7c2464",
            "c12373980c8246ce95e162a3023ad028",
            "d25b44997f584d46bdd0b247f83aea8d",
            "986a4de8a1404f0687c52a0e185dc7d5",
            "27b1ef714cca47f0860e1420422d28f8",
            "199d5bdc386b4640a93e0c15efe14ca7",
            "1ea3a077b71c4578b6ac35d9c055272a",
            "eb88b870c39a404393251a6468459a1b"
          ]
        }
      },
      "outputs": [
        {
          "name": "stderr",
          "text": "2025-06-16 14:07:40.978459: E external/local_xla/xla/stream_executor/cuda/cuda_fft.cc:477] Unable to register cuFFT factory: Attempting to register factory for plugin cuFFT when one has already been registered\nWARNING: All log messages before absl::InitializeLog() is called are written to STDERR\nE0000 00:00:1750082861.220841      35 cuda_dnn.cc:8310] Unable to register cuDNN factory: Attempting to register factory for plugin cuDNN when one has already been registered\nE0000 00:00:1750082861.291921      35 cuda_blas.cc:1418] Unable to register cuBLAS factory: Attempting to register factory for plugin cuBLAS when one has already been registered\n",
          "output_type": "stream"
        },
        {
          "output_type": "display_data",
          "data": {
            "text/plain": "config.json:   0%|          | 0.00/638 [00:00<?, ?B/s]",
            "application/vnd.jupyter.widget-view+json": {
              "version_major": 2,
              "version_minor": 0,
              "model_id": "707ce30077db45c4810b1c86a3e5295d"
            }
          },
          "metadata": {}
        },
        {
          "output_type": "display_data",
          "data": {
            "text/plain": "model.safetensors.index.json:   0%|          | 0.00/23.9k [00:00<?, ?B/s]",
            "application/vnd.jupyter.widget-view+json": {
              "version_major": 2,
              "version_minor": 0,
              "model_id": "17f5bb333a0e48ff8ca9e5499865cee5"
            }
          },
          "metadata": {}
        },
        {
          "output_type": "display_data",
          "data": {
            "text/plain": "Fetching 8 files:   0%|          | 0/8 [00:00<?, ?it/s]",
            "application/vnd.jupyter.widget-view+json": {
              "version_major": 2,
              "version_minor": 0,
              "model_id": "b6eed44131ed4126ad8802a8e0c9c41b"
            }
          },
          "metadata": {}
        },
        {
          "output_type": "display_data",
          "data": {
            "text/plain": "model-00006-of-00008.safetensors:   0%|          | 0.00/1.95G [00:00<?, ?B/s]",
            "application/vnd.jupyter.widget-view+json": {
              "version_major": 2,
              "version_minor": 0,
              "model_id": "16b62e988175408ca251eb7423e39b9b"
            }
          },
          "metadata": {}
        },
        {
          "output_type": "display_data",
          "data": {
            "text/plain": "model-00007-of-00008.safetensors:   0%|          | 0.00/1.98G [00:00<?, ?B/s]",
            "application/vnd.jupyter.widget-view+json": {
              "version_major": 2,
              "version_minor": 0,
              "model_id": "cd434a67e13a439297921e6a54b99dce"
            }
          },
          "metadata": {}
        },
        {
          "output_type": "display_data",
          "data": {
            "text/plain": "model-00001-of-00008.safetensors:   0%|          | 0.00/1.89G [00:00<?, ?B/s]",
            "application/vnd.jupyter.widget-view+json": {
              "version_major": 2,
              "version_minor": 0,
              "model_id": "c6f8f3417af84fa4a585704f8a52d0a9"
            }
          },
          "metadata": {}
        },
        {
          "output_type": "display_data",
          "data": {
            "text/plain": "model-00005-of-00008.safetensors:   0%|          | 0.00/1.98G [00:00<?, ?B/s]",
            "application/vnd.jupyter.widget-view+json": {
              "version_major": 2,
              "version_minor": 0,
              "model_id": "a1ec6cb7997e4a21a19b3d41678e1b35"
            }
          },
          "metadata": {}
        },
        {
          "output_type": "display_data",
          "data": {
            "text/plain": "model-00003-of-00008.safetensors:   0%|          | 0.00/1.98G [00:00<?, ?B/s]",
            "application/vnd.jupyter.widget-view+json": {
              "version_major": 2,
              "version_minor": 0,
              "model_id": "080ae949557e4342a6bccbf440be921c"
            }
          },
          "metadata": {}
        },
        {
          "output_type": "display_data",
          "data": {
            "text/plain": "model-00004-of-00008.safetensors:   0%|          | 0.00/1.95G [00:00<?, ?B/s]",
            "application/vnd.jupyter.widget-view+json": {
              "version_major": 2,
              "version_minor": 0,
              "model_id": "ce3aaa651b4e493abedfb223b6e4213d"
            }
          },
          "metadata": {}
        },
        {
          "output_type": "display_data",
          "data": {
            "text/plain": "model-00002-of-00008.safetensors:   0%|          | 0.00/1.95G [00:00<?, ?B/s]",
            "application/vnd.jupyter.widget-view+json": {
              "version_major": 2,
              "version_minor": 0,
              "model_id": "abf4114e86704e02b5f93366a56cb88d"
            }
          },
          "metadata": {}
        },
        {
          "output_type": "display_data",
          "data": {
            "text/plain": "model-00008-of-00008.safetensors:   0%|          | 0.00/816M [00:00<?, ?B/s]",
            "application/vnd.jupyter.widget-view+json": {
              "version_major": 2,
              "version_minor": 0,
              "model_id": "3281d75b8f014e89a820ce93de7c2464"
            }
          },
          "metadata": {}
        },
        {
          "output_type": "display_data",
          "data": {
            "text/plain": "Loading checkpoint shards:   0%|          | 0/8 [00:00<?, ?it/s]",
            "application/vnd.jupyter.widget-view+json": {
              "version_major": 2,
              "version_minor": 0,
              "model_id": "c12373980c8246ce95e162a3023ad028"
            }
          },
          "metadata": {}
        },
        {
          "output_type": "display_data",
          "data": {
            "text/plain": "generation_config.json:   0%|          | 0.00/111 [00:00<?, ?B/s]",
            "application/vnd.jupyter.widget-view+json": {
              "version_major": 2,
              "version_minor": 0,
              "model_id": "d25b44997f584d46bdd0b247f83aea8d"
            }
          },
          "metadata": {}
        },
        {
          "output_type": "display_data",
          "data": {
            "text/plain": "tokenizer_config.json:   0%|          | 0.00/1.43k [00:00<?, ?B/s]",
            "application/vnd.jupyter.widget-view+json": {
              "version_major": 2,
              "version_minor": 0,
              "model_id": "986a4de8a1404f0687c52a0e185dc7d5"
            }
          },
          "metadata": {}
        },
        {
          "output_type": "display_data",
          "data": {
            "text/plain": "tokenizer.model:   0%|          | 0.00/493k [00:00<?, ?B/s]",
            "application/vnd.jupyter.widget-view+json": {
              "version_major": 2,
              "version_minor": 0,
              "model_id": "27b1ef714cca47f0860e1420422d28f8"
            }
          },
          "metadata": {}
        },
        {
          "output_type": "display_data",
          "data": {
            "text/plain": "tokenizer.json:   0%|          | 0.00/1.80M [00:00<?, ?B/s]",
            "application/vnd.jupyter.widget-view+json": {
              "version_major": 2,
              "version_minor": 0,
              "model_id": "199d5bdc386b4640a93e0c15efe14ca7"
            }
          },
          "metadata": {}
        },
        {
          "output_type": "display_data",
          "data": {
            "text/plain": "added_tokens.json:   0%|          | 0.00/42.0 [00:00<?, ?B/s]",
            "application/vnd.jupyter.widget-view+json": {
              "version_major": 2,
              "version_minor": 0,
              "model_id": "1ea3a077b71c4578b6ac35d9c055272a"
            }
          },
          "metadata": {}
        },
        {
          "output_type": "display_data",
          "data": {
            "text/plain": "special_tokens_map.json:   0%|          | 0.00/168 [00:00<?, ?B/s]",
            "application/vnd.jupyter.widget-view+json": {
              "version_major": 2,
              "version_minor": 0,
              "model_id": "eb88b870c39a404393251a6468459a1b"
            }
          },
          "metadata": {}
        },
        {
          "name": "stderr",
          "text": "Device set to use cuda:0\n/usr/local/lib/python3.11/dist-packages/transformers/generation/configuration_utils.py:631: UserWarning: `do_sample` is set to `False`. However, `temperature` is set to `0.1` -- this flag is only used in sample-based generation modes. You should set `do_sample=True` or unset `temperature`.\n  warnings.warn(\n",
          "output_type": "stream"
        },
        {
          "name": "stdout",
          "text": "{\n  \"nom\": \"سكور\",\n  \"prenom\": \"ماسين\",\n  \"date_naissance\": \"الخامس جانفي ألف وتسعمائة وستة وثمانون\",\n  \"lieu_naissance\": \"سيدي عيش، بجاية\",\n  \"nom_pere\": \"سكور ماسين\",\n  \"nom_mere\": \"حدّار فديلة\"\n}\n",
          "output_type": "stream"
        }
      ],
      "execution_count": null
    },
    {
      "cell_type": "code",
      "source": [
        "from transformers import pipeline\n",
        "import json\n",
        "import re\n",
        "\n",
        "def extract_birth_info(text):\n",
        "    model_name = \"HuggingFaceH4/zephyr-7b-beta\"\n",
        "\n",
        "    pipe = pipeline(\n",
        "        \"text-generation\",\n",
        "        model=model_name,\n",
        "        tokenizer=model_name,\n",
        "        torch_dtype=\"auto\",\n",
        "        device_map=\"auto\"\n",
        "    )\n",
        "\n",
        "    prompt = f\"\"\"حلل النص العربي التالي واستخرج المعلومات التالية بصيغة JSON بدقة، دون اختراع أو تكرار معلومات من الأمثلة السابقة.\n",
        "\n",
        "⚠️ استخرج فقط من هذا النص. لا تستخدم أي معلومة من الأمثلة التالية.\n",
        "\n",
        "المطلوب:\n",
        "{{\n",
        "  \"nom\": \"اسم العائلة فقط\",\n",
        "  \"prenom\": \"الاسم الشخصي فقط\",\n",
        "  \"date_naissance\": \"كما هو مكتوب بالنص\",\n",
        "  \"lieu_naissance\": \"البلدية والولاية فقط\",\n",
        "  \"nom_pere\": \"الاسم الكامل للأب\",\n",
        "  \"nom_mere\": \"الاسم الكامل للأم\"\n",
        "}}\n",
        "\n",
        "🔹 مثال 1:\n",
        "النص:\n",
        "في يوم الرابع عشر مارس ألفين وأربعة على الساعة الواحدة صباحا ولد(ت) ب حيدرة بلدية حيدرة ولاية الجزائر المسمى (ة) عكوشي يونس الجنس ذكر ابن(ة) كمال و عليتوش حكيمة\n",
        "\n",
        "الإجابة:\n",
        "{{\n",
        "  \"nom\": \"عكوشي\",\n",
        "  \"prenom\": \"يونس\",\n",
        "  \"date_naissance\": \"الرابع عشر مارس ألفين وأربعة\",\n",
        "  \"lieu_naissance\": \"حيدرة، الجزائر\",\n",
        "  \"nom_pere\": \"كمال\",\n",
        "  \"nom_mere\": \"عليتوش حكيمة\"\n",
        "}}\n",
        "\n",
        "🔹 مثال 2:\n",
        "النص:\n",
        "في يوم الثاني سبتمبر ألف و تسعمائة و اثنان و خمسون ولد(ت) ب سيدي عيش بلدية سيدي عيش ولاية بجاية المسمى (ة) سكور محند صادق الجنس ذكر ابن(ة) سكور برمطان و حمني تياقوت\n",
        "\n",
        "الإجابة:\n",
        "{{\n",
        "  \"nom\": \"سكور\",\n",
        "  \"prenom\": \"محند صادق\",\n",
        "  \"date_naissance\": \"الثاني سبتمبر ألف و تسعمائة و اثنان و خمسون\",\n",
        "  \"lieu_naissance\": \"سيدي عيش، بجاية\",\n",
        "  \"nom_pere\": \"سكور برمطان\",\n",
        "  \"nom_mere\": \"حمني تياقوت\"\n",
        "}}\n",
        "\n",
        "🔹 النص الحقيقي:\n",
        "{text}\n",
        "\n",
        "الجواب بصيغة JSON فقط:\n",
        "\"\"\"\n",
        "\n",
        "    output = pipe(\n",
        "        prompt,\n",
        "        max_new_tokens=256,\n",
        "        temperature=0.1,\n",
        "        do_sample=False,\n",
        "        return_full_text=False\n",
        "    )\n",
        "\n",
        "    try:\n",
        "        json_str = re.search(r'\\{.*?\\}', output[0]['generated_text'], re.DOTALL).group()\n",
        "        return json.loads(json_str)\n",
        "    except Exception as e:\n",
        "        return {\"error\": \"Échec de l'extraction\", \"exception\": str(e), \"raw_output\": output}\n",
        "\n",
        "\n",
        "# Exemple d’utilisation\n",
        "if __name__ == \"__main__\":\n",
        "    texte_arabe = \"\"\"نسحة الخبرونية\n",
        "يبري الخامس جانفي ألف و تسعمائةو سستةو ثمانون\n",
        "\n",
        "على الساعق, للإن)ب سيدي عيش\n",
        "بللبت سيدي عيش .«لابسن. بجاية\n",
        "\n",
        "المسى )6 سكور ماسين\n",
        "\n",
        "الس ذكو\n",
        "\n",
        "أبن ).محند صادق . ‎٠‏ اعمرة //2.مبنطم //\n",
        "ب. حدار فديلة 00 . ‎٠.‏ .نسرها// بهنها /'\n",
        "الأكين, ب تيغزراتين بلدية تينبدار\"\"\"\n",
        "    resultat = extract_birth_info(texte_arabe)\n",
        "    print(json.dumps(resultat, indent=2, ensure_ascii=False))\n"
      ],
      "metadata": {
        "trusted": true,
        "execution": {
          "iopub.status.busy": "2025-06-16T14:19:34.179401Z",
          "iopub.execute_input": "2025-06-16T14:19:34.180068Z",
          "iopub.status.idle": "2025-06-16T14:23:04.080851Z",
          "shell.execute_reply.started": "2025-06-16T14:19:34.180039Z",
          "shell.execute_reply": "2025-06-16T14:23:04.080122Z"
        },
        "id": "7HnyQQLeIr-2",
        "outputId": "7e514385-75b3-4993-d56b-34634d9046ab",
        "colab": {
          "referenced_widgets": [
            "d2745a2c51984c76ad1826ad44fe3f3e",
            "a34373390987483a9bc935f8c443ffce",
            "04baff719493404eb61652f1e44ad9c2",
            "fb14ab21458b4e8c8db83c1c5a4b2124",
            "4d8331ad9b51409eae9beaa6b509bd74",
            "12df1135fc874238804ab90799cc025a",
            "bf34804fe946420f8f6c70b827b3055a",
            "88cc08c741894586a8d5eb9cd85b7098",
            "839aa32ed08645c2b9d9f39f900a9447",
            "b7666a81c341492599bdcf2e9a7cad5c",
            "9c5061953a6449ff9e138457e2d8390c",
            "58c9a3720d754774801744e43b5f43f8",
            "8d8622e642be4992ab41aa69c7fe0686",
            "79f7b2a63afb49c8bf5d61bab66b13cc",
            "a3aee07ed022404f8e2e773e661a29e8",
            "181ffc66e7674265b34933ec36906586",
            "f86e58921f954aec9871daa1b6e9281d",
            "09b167a175b24775a898f6816415a549"
          ]
        }
      },
      "outputs": [
        {
          "name": "stderr",
          "text": "2025-06-16 14:19:43.723068: E external/local_xla/xla/stream_executor/cuda/cuda_fft.cc:477] Unable to register cuFFT factory: Attempting to register factory for plugin cuFFT when one has already been registered\nWARNING: All log messages before absl::InitializeLog() is called are written to STDERR\nE0000 00:00:1750083583.914549      35 cuda_dnn.cc:8310] Unable to register cuDNN factory: Attempting to register factory for plugin cuDNN when one has already been registered\nE0000 00:00:1750083583.970712      35 cuda_blas.cc:1418] Unable to register cuBLAS factory: Attempting to register factory for plugin cuBLAS when one has already been registered\n",
          "output_type": "stream"
        },
        {
          "output_type": "display_data",
          "data": {
            "text/plain": "config.json:   0%|          | 0.00/638 [00:00<?, ?B/s]",
            "application/vnd.jupyter.widget-view+json": {
              "version_major": 2,
              "version_minor": 0,
              "model_id": "d2745a2c51984c76ad1826ad44fe3f3e"
            }
          },
          "metadata": {}
        },
        {
          "output_type": "display_data",
          "data": {
            "text/plain": "model.safetensors.index.json:   0%|          | 0.00/23.9k [00:00<?, ?B/s]",
            "application/vnd.jupyter.widget-view+json": {
              "version_major": 2,
              "version_minor": 0,
              "model_id": "a34373390987483a9bc935f8c443ffce"
            }
          },
          "metadata": {}
        },
        {
          "output_type": "display_data",
          "data": {
            "text/plain": "Fetching 8 files:   0%|          | 0/8 [00:00<?, ?it/s]",
            "application/vnd.jupyter.widget-view+json": {
              "version_major": 2,
              "version_minor": 0,
              "model_id": "04baff719493404eb61652f1e44ad9c2"
            }
          },
          "metadata": {}
        },
        {
          "output_type": "display_data",
          "data": {
            "text/plain": "model-00002-of-00008.safetensors:   0%|          | 0.00/1.95G [00:00<?, ?B/s]",
            "application/vnd.jupyter.widget-view+json": {
              "version_major": 2,
              "version_minor": 0,
              "model_id": "fb14ab21458b4e8c8db83c1c5a4b2124"
            }
          },
          "metadata": {}
        },
        {
          "output_type": "display_data",
          "data": {
            "text/plain": "model-00001-of-00008.safetensors:   0%|          | 0.00/1.89G [00:00<?, ?B/s]",
            "application/vnd.jupyter.widget-view+json": {
              "version_major": 2,
              "version_minor": 0,
              "model_id": "4d8331ad9b51409eae9beaa6b509bd74"
            }
          },
          "metadata": {}
        },
        {
          "output_type": "display_data",
          "data": {
            "text/plain": "model-00003-of-00008.safetensors:   0%|          | 0.00/1.98G [00:00<?, ?B/s]",
            "application/vnd.jupyter.widget-view+json": {
              "version_major": 2,
              "version_minor": 0,
              "model_id": "12df1135fc874238804ab90799cc025a"
            }
          },
          "metadata": {}
        },
        {
          "output_type": "display_data",
          "data": {
            "text/plain": "model-00005-of-00008.safetensors:   0%|          | 0.00/1.98G [00:00<?, ?B/s]",
            "application/vnd.jupyter.widget-view+json": {
              "version_major": 2,
              "version_minor": 0,
              "model_id": "bf34804fe946420f8f6c70b827b3055a"
            }
          },
          "metadata": {}
        },
        {
          "output_type": "display_data",
          "data": {
            "text/plain": "model-00007-of-00008.safetensors:   0%|          | 0.00/1.98G [00:00<?, ?B/s]",
            "application/vnd.jupyter.widget-view+json": {
              "version_major": 2,
              "version_minor": 0,
              "model_id": "88cc08c741894586a8d5eb9cd85b7098"
            }
          },
          "metadata": {}
        },
        {
          "output_type": "display_data",
          "data": {
            "text/plain": "model-00006-of-00008.safetensors:   0%|          | 0.00/1.95G [00:00<?, ?B/s]",
            "application/vnd.jupyter.widget-view+json": {
              "version_major": 2,
              "version_minor": 0,
              "model_id": "839aa32ed08645c2b9d9f39f900a9447"
            }
          },
          "metadata": {}
        },
        {
          "output_type": "display_data",
          "data": {
            "text/plain": "model-00004-of-00008.safetensors:   0%|          | 0.00/1.95G [00:00<?, ?B/s]",
            "application/vnd.jupyter.widget-view+json": {
              "version_major": 2,
              "version_minor": 0,
              "model_id": "b7666a81c341492599bdcf2e9a7cad5c"
            }
          },
          "metadata": {}
        },
        {
          "output_type": "display_data",
          "data": {
            "text/plain": "model-00008-of-00008.safetensors:   0%|          | 0.00/816M [00:00<?, ?B/s]",
            "application/vnd.jupyter.widget-view+json": {
              "version_major": 2,
              "version_minor": 0,
              "model_id": "9c5061953a6449ff9e138457e2d8390c"
            }
          },
          "metadata": {}
        },
        {
          "output_type": "display_data",
          "data": {
            "text/plain": "Loading checkpoint shards:   0%|          | 0/8 [00:00<?, ?it/s]",
            "application/vnd.jupyter.widget-view+json": {
              "version_major": 2,
              "version_minor": 0,
              "model_id": "58c9a3720d754774801744e43b5f43f8"
            }
          },
          "metadata": {}
        },
        {
          "output_type": "display_data",
          "data": {
            "text/plain": "generation_config.json:   0%|          | 0.00/111 [00:00<?, ?B/s]",
            "application/vnd.jupyter.widget-view+json": {
              "version_major": 2,
              "version_minor": 0,
              "model_id": "8d8622e642be4992ab41aa69c7fe0686"
            }
          },
          "metadata": {}
        },
        {
          "output_type": "display_data",
          "data": {
            "text/plain": "tokenizer_config.json:   0%|          | 0.00/1.43k [00:00<?, ?B/s]",
            "application/vnd.jupyter.widget-view+json": {
              "version_major": 2,
              "version_minor": 0,
              "model_id": "79f7b2a63afb49c8bf5d61bab66b13cc"
            }
          },
          "metadata": {}
        },
        {
          "output_type": "display_data",
          "data": {
            "text/plain": "tokenizer.model:   0%|          | 0.00/493k [00:00<?, ?B/s]",
            "application/vnd.jupyter.widget-view+json": {
              "version_major": 2,
              "version_minor": 0,
              "model_id": "a3aee07ed022404f8e2e773e661a29e8"
            }
          },
          "metadata": {}
        },
        {
          "output_type": "display_data",
          "data": {
            "text/plain": "tokenizer.json:   0%|          | 0.00/1.80M [00:00<?, ?B/s]",
            "application/vnd.jupyter.widget-view+json": {
              "version_major": 2,
              "version_minor": 0,
              "model_id": "181ffc66e7674265b34933ec36906586"
            }
          },
          "metadata": {}
        },
        {
          "output_type": "display_data",
          "data": {
            "text/plain": "added_tokens.json:   0%|          | 0.00/42.0 [00:00<?, ?B/s]",
            "application/vnd.jupyter.widget-view+json": {
              "version_major": 2,
              "version_minor": 0,
              "model_id": "f86e58921f954aec9871daa1b6e9281d"
            }
          },
          "metadata": {}
        },
        {
          "output_type": "display_data",
          "data": {
            "text/plain": "special_tokens_map.json:   0%|          | 0.00/168 [00:00<?, ?B/s]",
            "application/vnd.jupyter.widget-view+json": {
              "version_major": 2,
              "version_minor": 0,
              "model_id": "09b167a175b24775a898f6816415a549"
            }
          },
          "metadata": {}
        },
        {
          "name": "stderr",
          "text": "Device set to use cuda:0\n/usr/local/lib/python3.11/dist-packages/transformers/generation/configuration_utils.py:631: UserWarning: `do_sample` is set to `False`. However, `temperature` is set to `0.1` -- this flag is only used in sample-based generation modes. You should set `do_sample=True` or unset `temperature`.\n  warnings.warn(\n",
          "output_type": "stream"
        },
        {
          "name": "stdout",
          "text": "{\n  \"nom\": \"سكور\",\n  \"prenom\": \"محند صادق\",\n  \"date_naissance\": \"نسحة الخامس جانفي ألف و تسعمائةو سستةو ثمانون\",\n  \"lieu_naissance\": \"سيدي عيش.«لابسن. بجاية\",\n  \"nom_pere\": \"بللبت سيدي عيش\",\n  \"nom_mere\": \"الأكين, ب تيغزراتين بلدية تينبدار\"\n}\n",
          "output_type": "stream"
        }
      ],
      "execution_count": null
    }
  ]
}